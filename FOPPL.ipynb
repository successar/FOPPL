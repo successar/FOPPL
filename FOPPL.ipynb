{
 "cells": [
  {
   "cell_type": "code",
   "execution_count": 35,
   "metadata": {},
   "outputs": [
    {
     "name": "stdout",
     "output_type": "stream",
     "text": [
      "The autoreload extension is already loaded. To reload it, use:\n",
      "  %reload_ext autoreload\n"
     ]
    }
   ],
   "source": [
    "%load_ext autoreload\n",
    "%autoreload 2"
   ]
  },
  {
   "cell_type": "code",
   "execution_count": 36,
   "metadata": {},
   "outputs": [],
   "source": [
    "from parser import parse"
   ]
  },
  {
   "cell_type": "code",
   "execution_count": 37,
   "metadata": {},
   "outputs": [],
   "source": [
    "program = '''\n",
    "(defn proc [r t f] \n",
    "    (if r t f)\n",
    ")\n",
    "(let [v 10] \n",
    "    (let [a (sample (bern 0.2))] \n",
    "        (proc a (* v 45) (* 10 (sample (norm 34 2))))\n",
    "    )\n",
    ")\n",
    "'''"
   ]
  },
  {
   "cell_type": "code",
   "execution_count": 38,
   "metadata": {},
   "outputs": [
    {
     "name": "stdout",
     "output_type": "stream",
     "text": [
      "['r']\n",
      "['r', 't']\n",
      "<AST.LetExpression object at 0x7fb1e4dafac8>\n"
     ]
    }
   ],
   "source": [
    "env = parse(program)"
   ]
  },
  {
   "cell_type": "code",
   "execution_count": 39,
   "metadata": {},
   "outputs": [
    {
     "data": {
      "text/plain": [
       "set()"
      ]
     },
     "execution_count": 39,
     "metadata": {},
     "output_type": "execute_result"
    }
   ],
   "source": [
    "env.toplevel.expression.freevars()"
   ]
  },
  {
   "cell_type": "code",
   "execution_count": 43,
   "metadata": {},
   "outputs": [],
   "source": [
    "nums = [env.run() for _ in range(5000)]"
   ]
  },
  {
   "cell_type": "code",
   "execution_count": 44,
   "metadata": {},
   "outputs": [],
   "source": [
    "import matplotlib.pyplot as plt"
   ]
  },
  {
   "cell_type": "code",
   "execution_count": 45,
   "metadata": {},
   "outputs": [
    {
     "data": {
      "text/plain": [
       "(array([  7.,   9.,  26.,  53.,  86., 133., 219., 287., 371., 434., 417.,\n",
       "        488., 398., 368., 277., 193., 126.,  70.,  31.,  12.,  11.,   6.,\n",
       "          2.,   1.,   0.,   0.,   0.,   0.,   0., 975.]),\n",
       " array([277.41092057, 283.16388989, 288.9168592 , 294.66982851,\n",
       "        300.42279783, 306.17576714, 311.92873646, 317.68170577,\n",
       "        323.43467509, 329.1876444 , 334.94061371, 340.69358303,\n",
       "        346.44655234, 352.19952166, 357.95249097, 363.70546029,\n",
       "        369.4584296 , 375.21139891, 380.96436823, 386.71733754,\n",
       "        392.47030686, 398.22327617, 403.97624549, 409.7292148 ,\n",
       "        415.48218411, 421.23515343, 426.98812274, 432.74109206,\n",
       "        438.49406137, 444.24703069, 450.        ]),\n",
       " <a list of 30 Patch objects>)"
      ]
     },
     "execution_count": 45,
     "metadata": {},
     "output_type": "execute_result"
    },
    {
     "data": {
      "image/png": "[encoded data removed]",
      "text/plain": [
       "<Figure size 432x288 with 1 Axes>"
      ]
     },
     "metadata": {
      "image/png": {
       "height": 250,
       "width": 383
      },
      "needs_background": "light"
     },
     "output_type": "display_data"
    }
   ],
   "source": [
    "plt.hist(nums, bins=30)"
   ]
  },
  {
   "cell_type": "code",
   "execution_count": null,
   "metadata": {},
   "outputs": [],
   "source": []
  }
 ],
 "metadata": {
  "kernelspec": {
   "display_name": "Python 3",
   "language": "python",
   "name": "python3"
  },
  "language_info": {
   "codemirror_mode": {
    "name": "ipython",
    "version": 3
   },
   "file_extension": ".py",
   "mimetype": "text/x-python",
   "name": "python",
   "nbconvert_exporter": "python",
   "pygments_lexer": "ipython3",
   "version": "3.7.2"
  }
 },
 "nbformat": 4,
 "nbformat_minor": 2
}
