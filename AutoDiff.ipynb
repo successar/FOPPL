{
 "cells": [
  {
   "cell_type": "code",
   "execution_count": 1,
   "metadata": {},
   "outputs": [],
   "source": [
    "class O :\n",
    "    def __init__(self, v, args=None, args_1=None, variable=None) :\n",
    "        self.value = v\n",
    "        self.args = args\n",
    "        self.args_1 = args_1\n",
    "        self.variable = variable\n",
    "        self.grad = 0.0\n",
    "        \n",
    "    def __str__(self) :\n",
    "        return str(self.value)"
   ]
  },
  {
   "cell_type": "code",
   "execution_count": 2,
   "metadata": {},
   "outputs": [],
   "source": [
    "def lift_function(f, df) :\n",
    "    def new_f(x) :\n",
    "        args = [v.value for v in x]\n",
    "        c = f(*args)\n",
    "        c_1 = df(*args)\n",
    "        return O(c, x, c_1)\n",
    "    \n",
    "    return new_f"
   ]
  },
  {
   "cell_type": "code",
   "execution_count": 3,
   "metadata": {},
   "outputs": [],
   "source": [
    "import math\n",
    "f = lambda x, p : x**p\n",
    "df = lambda x, p : [p * x ** (p-1), x**p * math.log(x)]\n",
    "pow_lift = lift_function(f, df)\n",
    "\n",
    "f = lambda *args : sum(args)\n",
    "df = lambda *args : [1]*len(args)\n",
    "add_lift = lift_function(f, df)\n",
    "\n",
    "f = lambda x, y : x*y\n",
    "df = lambda x, y : [y, x]\n",
    "mult_lift = lift_function(f, df)\n",
    "\n",
    "def sigmoid(v1) :\n",
    "    e = pow_lift([O(math.e), mult_lift([O(-1), v1])])\n",
    "    a = add_lift([O(1), e])\n",
    "    return pow_lift([a, O(-1)])\n",
    "\n",
    "f = lambda x : math.log(x)\n",
    "df = lambda x : [1 / x]\n",
    "log_lift = lift_function(f, df)"
   ]
  },
  {
   "cell_type": "code",
   "execution_count": 4,
   "metadata": {},
   "outputs": [],
   "source": [
    "from collections import defaultdict\n",
    "def grad(out) :\n",
    "    if out.variable is not None :\n",
    "        G = defaultdict(float, { out.variable : 1.0, 'G$': None})\n",
    "        return G\n",
    "    elif out.args is None :\n",
    "        G = defaultdict(float)\n",
    "        G['G$'] = None\n",
    "        return defaultdict(float)\n",
    "    else :\n",
    "        G = defaultdict(float)\n",
    "        G['G$'] = []\n",
    "        for v, v_1 in zip(out.args, out.args_1) :\n",
    "            G_v = grad(v)\n",
    "            G['G$'].append(G_v)\n",
    "            for k in G_v :\n",
    "                if k != 'G$' :\n",
    "                    G[k] += G_v[k] * v_1\n",
    "                \n",
    "        return G"
   ]
  },
  {
   "cell_type": "code",
   "execution_count": 42,
   "metadata": {},
   "outputs": [],
   "source": [
    "def backward(out, grad_out=None) :\n",
    "    if out.variable is not None :\n",
    "        return\n",
    "    elif out.args is None :\n",
    "        return\n",
    "    else :\n",
    "        my_grad = (out.grad if grad_out is None else grad_out)\n",
    "        for v, v_1 in zip(out.args, out.args_1) :\n",
    "            v.grad += v_1 * my_grad\n",
    "            \n",
    "        for v in out.args :\n",
    "            backward(v)"
   ]
  },
  {
   "cell_type": "code",
   "execution_count": 7,
   "metadata": {},
   "outputs": [],
   "source": [
    "def LROutput(X, w) :\n",
    "    out = []\n",
    "    for x, y in zip(X, Y) :\n",
    "        logit = add_lift([w[0], mult_lift([w[1], x])])\n",
    "        p = sigmoid(logit)\n",
    "        out.append(p)\n",
    "        \n",
    "    return out\n",
    "\n",
    "def loss(out, Y) :\n",
    "    loss = []\n",
    "    for p, y in zip(out, Y) :\n",
    "        if y.value == 1 :\n",
    "            loss.append(log_lift([p]))\n",
    "        else :\n",
    "            loss.append(log_lift([add_lift([O(1), mult_lift([O(-1), p])])]))\n",
    "            \n",
    "    return mult_lift([O(-1/len(out)), add_lift(loss)])"
   ]
  },
  {
   "cell_type": "code",
   "execution_count": 8,
   "metadata": {},
   "outputs": [],
   "source": [
    "import numpy as np\n",
    "import pandas as pd\n",
    "def logistic(x, b, noise=None):\n",
    "    L = x.T.dot(b)\n",
    "    if noise is not None:\n",
    "        L = L+noise\n",
    "    return 1/(1+np.exp(-L))\n",
    "\n",
    "x = np.arange(-10., 10, 0.05)\n",
    "bias = np.ones(len(x))\n",
    "X = np.vstack([x,bias]) # Add intercept\n",
    "B =  [1., 1.] # Sigmoid params for X\n",
    "\n",
    "p = logistic(X, B)\n",
    "# pnoisy = logistic(X, B, noise=np.random.normal(loc=0., scale=1., size=len(x)))\n",
    "dichot = np.random.binomial(1., p)"
   ]
  },
  {
   "cell_type": "code",
   "execution_count": 9,
   "metadata": {},
   "outputs": [],
   "source": [
    "w = [O(0, variable='b0'), O(0, variable='b1')]\n",
    "X1 = [O(v) for v in X[0]]\n",
    "Y = [O(v) for v in dichot]"
   ]
  },
  {
   "cell_type": "code",
   "execution_count": 10,
   "metadata": {},
   "outputs": [],
   "source": [
    "out = LROutput(X1, Y)"
   ]
  },
  {
   "cell_type": "code",
   "execution_count": 53,
   "metadata": {},
   "outputs": [
    {
     "data": {
      "application/vnd.jupyter.widget-view+json": {
       "model_id": "84e1fa8572d9495d8d585719390ce186",
       "version_major": 2,
       "version_minor": 0
      },
      "text/plain": [
       "HBox(children=(IntProgress(value=0, max=1000), HTML(value='')))"
      ]
     },
     "metadata": {},
     "output_type": "display_data"
    },
    {
     "name": "stdout",
     "output_type": "stream",
     "text": [
      "\n"
     ]
    }
   ],
   "source": [
    "from tqdm import tqdm_notebook\n",
    "losses = []\n",
    "for i in tqdm_notebook(range(1000)) :\n",
    "    out = LROutput(X1, w)\n",
    "    l = loss(out, Y)\n",
    "    G = grad(l)\n",
    "    w[0].value -= 0.1 * G['b0']\n",
    "    w[1].value -= 0.1 * G['b1']\n",
    "    losses.append(l.value)"
   ]
  },
  {
   "cell_type": "code",
   "execution_count": 48,
   "metadata": {},
   "outputs": [
    {
     "data": {
      "application/vnd.jupyter.widget-view+json": {
       "model_id": "6ee4cb98818848858740a0f339814c79",
       "version_major": 2,
       "version_minor": 0
      },
      "text/plain": [
       "HBox(children=(IntProgress(value=0, max=1000), HTML(value='')))"
      ]
     },
     "metadata": {},
     "output_type": "display_data"
    },
    {
     "name": "stdout",
     "output_type": "stream",
     "text": [
      "\n"
     ]
    }
   ],
   "source": [
    "from tqdm import tqdm_notebook\n",
    "losses = []\n",
    "for i in tqdm_notebook(range(1000)) :\n",
    "    w[0].grad = 0.0\n",
    "    w[1].grad = 0.0\n",
    "    out = LROutput(X1, w)\n",
    "    l = loss(out, Y)\n",
    "    backward(l, 1)\n",
    "    w[0].value -= 0.1 * w[0].grad\n",
    "    w[1].value -= 0.1 * w[1].grad\n",
    "    losses.append(l.value)"
   ]
  },
  {
   "cell_type": "code",
   "execution_count": 54,
   "metadata": {},
   "outputs": [
    {
     "data": {
      "text/plain": [
       "[<matplotlib.lines.Line2D at 0x7fd847676358>]"
      ]
     },
     "execution_count": 54,
     "metadata": {},
     "output_type": "execute_result"
    },
    {
     "data": {
      "image/png": "[encoded data removed]",
      "text/plain": [
       "<Figure size 432x288 with 1 Axes>"
      ]
     },
     "metadata": {
      "image/png": {
       "height": 258,
       "width": 412
      },
      "needs_background": "light"
     },
     "output_type": "display_data"
    }
   ],
   "source": [
    "import matplotlib.pyplot as plt\n",
    "plt.plot(losses)"
   ]
  },
  {
   "cell_type": "code",
   "execution_count": 57,
   "metadata": {},
   "outputs": [
    {
     "data": {
      "text/plain": [
       "[0.7954664307659197, 0.9089652290287341]"
      ]
     },
     "execution_count": 57,
     "metadata": {},
     "output_type": "execute_result"
    }
   ],
   "source": [
    "[x.value for x in w]"
   ]
  },
  {
   "cell_type": "code",
   "execution_count": 58,
   "metadata": {},
   "outputs": [
    {
     "data": {
      "text/plain": [
       "[<matplotlib.lines.Line2D at 0x7fd847226518>]"
      ]
     },
     "execution_count": 58,
     "metadata": {},
     "output_type": "execute_result"
    },
    {
     "data": {
      "image/png": "[encoded data removed]",
      "text/plain": [
       "<Figure size 432x288 with 1 Axes>"
      ]
     },
     "metadata": {
      "image/png": {
       "height": 250,
       "width": 373
      },
      "needs_background": "light"
     },
     "output_type": "display_data"
    }
   ],
   "source": [
    "plt.plot([x.value for x in out])"
   ]
  },
  {
   "cell_type": "code",
   "execution_count": null,
   "metadata": {},
   "outputs": [],
   "source": []
  }
 ],
 "metadata": {
  "kernelspec": {
   "display_name": "Python 3",
   "language": "python",
   "name": "python3"
  },
  "language_info": {
   "codemirror_mode": {
    "name": "ipython",
    "version": 3
   },
   "file_extension": ".py",
   "mimetype": "text/x-python",
   "name": "python",
   "nbconvert_exporter": "python",
   "pygments_lexer": "ipython3",
   "version": "3.7.3"
  }
 },
 "nbformat": 4,
 "nbformat_minor": 2
}
